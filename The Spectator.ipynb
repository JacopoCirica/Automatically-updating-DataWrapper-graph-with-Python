{
 "cells": [
  {
   "cell_type": "markdown",
   "id": "472a3d14",
   "metadata": {},
   "source": [
    "# An automatically-updating DataWrapper graph using Python and Yahoo finance wrapper"
   ]
  },
  {
   "cell_type": "markdown",
   "id": "94492754",
   "metadata": {},
   "source": [
    "## If necessary, we install the necessary libraries"
   ]
  },
  {
   "cell_type": "code",
   "execution_count": 1,
   "id": "a155d23f",
   "metadata": {},
   "outputs": [],
   "source": [
    "#pip install datawrapper\n",
    "#pip install yfinance\n",
    "#pip install yahoofinancials"
   ]
  },
  {
   "cell_type": "markdown",
   "id": "663911b8",
   "metadata": {},
   "source": [
    "## We import them\n"
   ]
  },
  {
   "cell_type": "code",
   "execution_count": 2,
   "id": "add063a8",
   "metadata": {},
   "outputs": [],
   "source": [
    "from datawrapper import Datawrapper\n",
    "import pandas as pd\n",
    "import yfinance as yf\n",
    "from yahoofinancials import YahooFinancials"
   ]
  },
  {
   "cell_type": "markdown",
   "id": "ed4480d8",
   "metadata": {},
   "source": [
    "## Now we pass our Datawrapper API key to the Datawrapper instance"
   ]
  },
  {
   "cell_type": "code",
   "execution_count": 3,
   "id": "5530de93",
   "metadata": {},
   "outputs": [
    {
     "data": {
      "text/plain": [
       "{'id': 442546,\n",
       " 'email': '',\n",
       " 'name': 'Jacopo Cirica',\n",
       " 'role': 'editor',\n",
       " 'language': 'en-US',\n",
       " 'teams': [],\n",
       " 'chartCount': 16,\n",
       " 'url': '/v3/users/442546'}"
      ]
     },
     "execution_count": 3,
     "metadata": {},
     "output_type": "execute_result"
    }
   ],
   "source": [
    "dw = Datawrapper(access_token = \"IVOkJfFZxTzEi6YyIJTGZDcqw0f4zKT2KT4W36jSPcDqOWcvqTfqrVw28yrQpMO8\")\n",
    "dw.account_info()"
   ]
  },
  {
   "cell_type": "markdown",
   "id": "890ba254",
   "metadata": {},
   "source": [
    "## Import the dataset we are interested in. In this case, the stokes of gas natural have been chosen"
   ]
  },
  {
   "cell_type": "code",
   "execution_count": 4,
   "id": "bb3886ad",
   "metadata": {},
   "outputs": [
    {
     "data": {
      "text/html": [
       "<div>\n",
       "<style scoped>\n",
       "    .dataframe tbody tr th:only-of-type {\n",
       "        vertical-align: middle;\n",
       "    }\n",
       "\n",
       "    .dataframe tbody tr th {\n",
       "        vertical-align: top;\n",
       "    }\n",
       "\n",
       "    .dataframe thead th {\n",
       "        text-align: right;\n",
       "    }\n",
       "</style>\n",
       "<table border=\"1\" class=\"dataframe\">\n",
       "  <thead>\n",
       "    <tr style=\"text-align: right;\">\n",
       "      <th></th>\n",
       "      <th>Open</th>\n",
       "      <th>High</th>\n",
       "      <th>Low</th>\n",
       "      <th>Close</th>\n",
       "      <th>Adj Close</th>\n",
       "      <th>Volume</th>\n",
       "    </tr>\n",
       "    <tr>\n",
       "      <th>Date</th>\n",
       "      <th></th>\n",
       "      <th></th>\n",
       "      <th></th>\n",
       "      <th></th>\n",
       "      <th></th>\n",
       "      <th></th>\n",
       "    </tr>\n",
       "  </thead>\n",
       "  <tbody>\n",
       "    <tr>\n",
       "      <th>2021-12-06</th>\n",
       "      <td>3.826</td>\n",
       "      <td>3.886</td>\n",
       "      <td>3.630</td>\n",
       "      <td>3.657</td>\n",
       "      <td>3.657</td>\n",
       "      <td>176715</td>\n",
       "    </tr>\n",
       "    <tr>\n",
       "      <th>2021-12-07</th>\n",
       "      <td>3.680</td>\n",
       "      <td>3.829</td>\n",
       "      <td>3.657</td>\n",
       "      <td>3.708</td>\n",
       "      <td>3.708</td>\n",
       "      <td>162973</td>\n",
       "    </tr>\n",
       "    <tr>\n",
       "      <th>2021-12-08</th>\n",
       "      <td>3.734</td>\n",
       "      <td>3.931</td>\n",
       "      <td>3.723</td>\n",
       "      <td>3.815</td>\n",
       "      <td>3.815</td>\n",
       "      <td>146872</td>\n",
       "    </tr>\n",
       "    <tr>\n",
       "      <th>2021-12-09</th>\n",
       "      <td>3.818</td>\n",
       "      <td>3.924</td>\n",
       "      <td>3.725</td>\n",
       "      <td>3.814</td>\n",
       "      <td>3.814</td>\n",
       "      <td>141107</td>\n",
       "    </tr>\n",
       "    <tr>\n",
       "      <th>2021-12-10</th>\n",
       "      <td>3.798</td>\n",
       "      <td>3.965</td>\n",
       "      <td>3.760</td>\n",
       "      <td>3.925</td>\n",
       "      <td>3.925</td>\n",
       "      <td>133283</td>\n",
       "    </tr>\n",
       "  </tbody>\n",
       "</table>\n",
       "</div>"
      ],
      "text/plain": [
       "             Open   High    Low  Close  Adj Close  Volume\n",
       "Date                                                     \n",
       "2021-12-06  3.826  3.886  3.630  3.657      3.657  176715\n",
       "2021-12-07  3.680  3.829  3.657  3.708      3.708  162973\n",
       "2021-12-08  3.734  3.931  3.723  3.815      3.815  146872\n",
       "2021-12-09  3.818  3.924  3.725  3.814      3.814  141107\n",
       "2021-12-10  3.798  3.965  3.760  3.925      3.925  133283"
      ]
     },
     "execution_count": 4,
     "metadata": {},
     "output_type": "execute_result"
    }
   ],
   "source": [
    "gas_df = yf.download('NG=F', \n",
    "                      start='2021-12-06', \n",
    "                      end='2022-04-20', \n",
    "                      progress=False,\n",
    ")\n",
    "gas_df.head()"
   ]
  },
  {
   "cell_type": "code",
   "execution_count": 5,
   "id": "ef5df18e",
   "metadata": {},
   "outputs": [
    {
     "data": {
      "text/html": [
       "<div>\n",
       "<style scoped>\n",
       "    .dataframe tbody tr th:only-of-type {\n",
       "        vertical-align: middle;\n",
       "    }\n",
       "\n",
       "    .dataframe tbody tr th {\n",
       "        vertical-align: top;\n",
       "    }\n",
       "\n",
       "    .dataframe thead th {\n",
       "        text-align: right;\n",
       "    }\n",
       "</style>\n",
       "<table border=\"1\" class=\"dataframe\">\n",
       "  <thead>\n",
       "    <tr style=\"text-align: right;\">\n",
       "      <th></th>\n",
       "      <th>Open</th>\n",
       "      <th>High</th>\n",
       "      <th>Low</th>\n",
       "      <th>Close</th>\n",
       "      <th>Adj Close</th>\n",
       "      <th>Volume</th>\n",
       "    </tr>\n",
       "    <tr>\n",
       "      <th>Date</th>\n",
       "      <th></th>\n",
       "      <th></th>\n",
       "      <th></th>\n",
       "      <th></th>\n",
       "      <th></th>\n",
       "      <th></th>\n",
       "    </tr>\n",
       "  </thead>\n",
       "  <tbody>\n",
       "    <tr>\n",
       "      <th>2022-04-12</th>\n",
       "      <td>6.705</td>\n",
       "      <td>6.947</td>\n",
       "      <td>6.600</td>\n",
       "      <td>6.680</td>\n",
       "      <td>6.680</td>\n",
       "      <td>234248</td>\n",
       "    </tr>\n",
       "    <tr>\n",
       "      <th>2022-04-13</th>\n",
       "      <td>6.704</td>\n",
       "      <td>7.091</td>\n",
       "      <td>6.652</td>\n",
       "      <td>6.997</td>\n",
       "      <td>6.997</td>\n",
       "      <td>210551</td>\n",
       "    </tr>\n",
       "    <tr>\n",
       "      <th>2022-04-14</th>\n",
       "      <td>7.046</td>\n",
       "      <td>7.346</td>\n",
       "      <td>6.950</td>\n",
       "      <td>7.300</td>\n",
       "      <td>7.300</td>\n",
       "      <td>214218</td>\n",
       "    </tr>\n",
       "    <tr>\n",
       "      <th>2022-04-18</th>\n",
       "      <td>7.367</td>\n",
       "      <td>8.065</td>\n",
       "      <td>7.365</td>\n",
       "      <td>7.820</td>\n",
       "      <td>7.820</td>\n",
       "      <td>191084</td>\n",
       "    </tr>\n",
       "    <tr>\n",
       "      <th>2022-04-19</th>\n",
       "      <td>7.776</td>\n",
       "      <td>7.939</td>\n",
       "      <td>6.954</td>\n",
       "      <td>7.176</td>\n",
       "      <td>7.176</td>\n",
       "      <td>236995</td>\n",
       "    </tr>\n",
       "  </tbody>\n",
       "</table>\n",
       "</div>"
      ],
      "text/plain": [
       "             Open   High    Low  Close  Adj Close  Volume\n",
       "Date                                                     \n",
       "2022-04-12  6.705  6.947  6.600  6.680      6.680  234248\n",
       "2022-04-13  6.704  7.091  6.652  6.997      6.997  210551\n",
       "2022-04-14  7.046  7.346  6.950  7.300      7.300  214218\n",
       "2022-04-18  7.367  8.065  7.365  7.820      7.820  191084\n",
       "2022-04-19  7.776  7.939  6.954  7.176      7.176  236995"
      ]
     },
     "execution_count": 5,
     "metadata": {},
     "output_type": "execute_result"
    }
   ],
   "source": [
    "gas_df.tail()"
   ]
  },
  {
   "cell_type": "markdown",
   "id": "040b67e3",
   "metadata": {},
   "source": [
    "## Let's check the price of gas before the Russian invasion"
   ]
  },
  {
   "cell_type": "code",
   "execution_count": 6,
   "id": "c44d148e",
   "metadata": {},
   "outputs": [
    {
     "data": {
      "text/plain": [
       "Open              4.603\n",
       "High              4.940\n",
       "Low               4.293\n",
       "Close             4.568\n",
       "Adj Close         4.568\n",
       "Volume       184107.000\n",
       "Name: 2022-02-24 00:00:00, dtype: float64"
      ]
     },
     "execution_count": 6,
     "metadata": {},
     "output_type": "execute_result"
    }
   ],
   "source": [
    "gas_df.loc[\"2022-02-24\"]"
   ]
  },
  {
   "cell_type": "code",
   "execution_count": 7,
   "id": "ce13d274",
   "metadata": {},
   "outputs": [
    {
     "data": {
      "text/plain": [
       "Open              7.776\n",
       "High              7.939\n",
       "Low               6.954\n",
       "Close             7.176\n",
       "Adj Close         7.176\n",
       "Volume       236995.000\n",
       "Name: 2022-04-19 00:00:00, dtype: float64"
      ]
     },
     "execution_count": 7,
     "metadata": {},
     "output_type": "execute_result"
    }
   ],
   "source": [
    "gas_df.loc[\"2022-04-19\"]"
   ]
  },
  {
   "cell_type": "markdown",
   "id": "1e001638",
   "metadata": {},
   "source": [
    "## Since the beginning of the conflict, the cost of natural gas has risen by more than 60%."
   ]
  },
  {
   "cell_type": "code",
   "execution_count": 27,
   "id": "9c0e212f",
   "metadata": {},
   "outputs": [
    {
     "data": {
      "text/plain": [
       "<AxesSubplot:title={'center':\"Natural Gas' stock price\"}, xlabel='Date'>"
      ]
     },
     "execution_count": 27,
     "metadata": {},
     "output_type": "execute_result"
    },
    {
     "data": {
      "image/png": "[encoded data removed]",
      "text/plain": [
       "<Figure size 432x288 with 1 Axes>"
      ]
     },
     "metadata": {
      "needs_background": "light"
     },
     "output_type": "display_data"
    }
   ],
   "source": [
    "ticker = yf.Ticker('NG=F')\n",
    "gas_df = ticker.history(period=\"3mo\")\n",
    "gas_df['Close'].plot(title=\"Natural Gas' stock price\")"
   ]
  },
  {
   "cell_type": "markdown",
   "id": "9145035c",
   "metadata": {},
   "source": [
    "## We create a subset that includes only the closing stocks price"
   ]
  },
  {
   "cell_type": "code",
   "execution_count": 28,
   "id": "f9aa72b3",
   "metadata": {},
   "outputs": [
    {
     "data": {
      "text/html": [
       "<div>\n",
       "<style scoped>\n",
       "    .dataframe tbody tr th:only-of-type {\n",
       "        vertical-align: middle;\n",
       "    }\n",
       "\n",
       "    .dataframe tbody tr th {\n",
       "        vertical-align: top;\n",
       "    }\n",
       "\n",
       "    .dataframe thead th {\n",
       "        text-align: right;\n",
       "    }\n",
       "</style>\n",
       "<table border=\"1\" class=\"dataframe\">\n",
       "  <thead>\n",
       "    <tr style=\"text-align: right;\">\n",
       "      <th></th>\n",
       "      <th>Date</th>\n",
       "      <th>Stock price</th>\n",
       "    </tr>\n",
       "  </thead>\n",
       "  <tbody>\n",
       "    <tr>\n",
       "      <th>0</th>\n",
       "      <td>2022-01-21</td>\n",
       "      <td>3.999</td>\n",
       "    </tr>\n",
       "    <tr>\n",
       "      <th>1</th>\n",
       "      <td>2022-01-24</td>\n",
       "      <td>4.027</td>\n",
       "    </tr>\n",
       "    <tr>\n",
       "      <th>2</th>\n",
       "      <td>2022-01-25</td>\n",
       "      <td>4.053</td>\n",
       "    </tr>\n",
       "    <tr>\n",
       "      <th>3</th>\n",
       "      <td>2022-01-26</td>\n",
       "      <td>4.277</td>\n",
       "    </tr>\n",
       "    <tr>\n",
       "      <th>4</th>\n",
       "      <td>2022-01-27</td>\n",
       "      <td>6.265</td>\n",
       "    </tr>\n",
       "  </tbody>\n",
       "</table>\n",
       "</div>"
      ],
      "text/plain": [
       "        Date  Stock price\n",
       "0 2022-01-21        3.999\n",
       "1 2022-01-24        4.027\n",
       "2 2022-01-25        4.053\n",
       "3 2022-01-26        4.277\n",
       "4 2022-01-27        6.265"
      ]
     },
     "execution_count": 28,
     "metadata": {},
     "output_type": "execute_result"
    }
   ],
   "source": [
    "naturalgas_df=gas_df[[\"Close\"]]\n",
    "naturalgas_df=naturalgas_df.reset_index(level=0)\n",
    "naturalgas_df.rename(columns = {'Close':'Stock price'}, inplace = True)\n",
    "naturalgas_df.head()"
   ]
  },
  {
   "cell_type": "code",
   "execution_count": 29,
   "id": "db0a29a5",
   "metadata": {},
   "outputs": [
    {
     "data": {
      "text/html": [
       "<div>\n",
       "<style scoped>\n",
       "    .dataframe tbody tr th:only-of-type {\n",
       "        vertical-align: middle;\n",
       "    }\n",
       "\n",
       "    .dataframe tbody tr th {\n",
       "        vertical-align: top;\n",
       "    }\n",
       "\n",
       "    .dataframe thead th {\n",
       "        text-align: right;\n",
       "    }\n",
       "</style>\n",
       "<table border=\"1\" class=\"dataframe\">\n",
       "  <thead>\n",
       "    <tr style=\"text-align: right;\">\n",
       "      <th></th>\n",
       "      <th>Date</th>\n",
       "      <th>Stock price</th>\n",
       "    </tr>\n",
       "  </thead>\n",
       "  <tbody>\n",
       "    <tr>\n",
       "      <th>58</th>\n",
       "      <td>2022-04-14</td>\n",
       "      <td>7.300</td>\n",
       "    </tr>\n",
       "    <tr>\n",
       "      <th>59</th>\n",
       "      <td>2022-04-18</td>\n",
       "      <td>7.820</td>\n",
       "    </tr>\n",
       "    <tr>\n",
       "      <th>60</th>\n",
       "      <td>2022-04-19</td>\n",
       "      <td>7.176</td>\n",
       "    </tr>\n",
       "    <tr>\n",
       "      <th>61</th>\n",
       "      <td>2022-04-20</td>\n",
       "      <td>6.937</td>\n",
       "    </tr>\n",
       "    <tr>\n",
       "      <th>62</th>\n",
       "      <td>2022-04-21</td>\n",
       "      <td>6.820</td>\n",
       "    </tr>\n",
       "  </tbody>\n",
       "</table>\n",
       "</div>"
      ],
      "text/plain": [
       "         Date  Stock price\n",
       "58 2022-04-14        7.300\n",
       "59 2022-04-18        7.820\n",
       "60 2022-04-19        7.176\n",
       "61 2022-04-20        6.937\n",
       "62 2022-04-21        6.820"
      ]
     },
     "execution_count": 29,
     "metadata": {},
     "output_type": "execute_result"
    }
   ],
   "source": [
    "naturalgas_df.tail()"
   ]
  },
  {
   "cell_type": "markdown",
   "id": "9d8d0a36",
   "metadata": {},
   "source": [
    "## We create our graph using the DataWrapper library."
   ]
  },
  {
   "cell_type": "code",
   "execution_count": 31,
   "id": "272065a4",
   "metadata": {},
   "outputs": [
    {
     "name": "stdout",
     "output_type": "stream",
     "text": [
      "New chart d3-lines created!\n"
     ]
    }
   ],
   "source": [
    "gas_chart = dw.create_chart(title = \"Natural Gas' stocks\", \n",
    "chart_type = 'd3-lines', data = naturalgas_df)"
   ]
  },
  {
   "cell_type": "markdown",
   "id": "ff0b584a",
   "metadata": {},
   "source": [
    "## The outcome is:"
   ]
  },
  {
   "cell_type": "code",
   "execution_count": 32,
   "id": "ec4048fd",
   "metadata": {},
   "outputs": [
    {
     "data": {
      "text/html": [
       "<iframe title=\"Natural Gas' stocks\" aria-label=\"Interactive line chart\" id=\"datawrapper-chart-OOJrC\" src=\"https://datawrapper.dwcdn.net/OOJrC/1/\" scrolling=\"no\" frameborder=\"0\" style=\"border: none;\" width=\"600\" height=\"400\"></iframe>"
      ],
      "text/plain": [
       "<IPython.core.display.HTML object>"
      ]
     },
     "execution_count": 32,
     "metadata": {},
     "output_type": "execute_result"
    }
   ],
   "source": [
    "dw.publish_chart(gas_chart['id'])"
   ]
  },
  {
   "cell_type": "markdown",
   "id": "379254c9",
   "metadata": {},
   "source": [
    "## We personalise it by inserting the sources and the author's name."
   ]
  },
  {
   "cell_type": "code",
   "execution_count": 35,
   "id": "72c27935",
   "metadata": {},
   "outputs": [
    {
     "name": "stdout",
     "output_type": "stream",
     "text": [
      "Chart updated!\n"
     ]
    }
   ],
   "source": [
    "dw.update_description(\n",
    "  gas_chart['id'],\n",
    "  source_name = 'Yahoo Finance',\n",
    "  source_url = 'https://finance.yahoo.com/quote/NG%3DF/?guccounter=1&guce_referrer=aHR0cHM6Ly93d3cuZ29vZ2xlLmNvbS8&guce_referrer_sig=AQAAAMmzAm-FUjfUKdHkrPPFv5lV0BUyskMi6mn7hbK3zUOyfm61si1B_9nnqbLq1AKkTRGWSwIzzqr8WBsqjpt9-T2nUV3dPr1S8H9aLGmwH-fq4SAG1miRGA6zoat0nG1HgBKOTQQomPYQqeE4Ky5Lis0VJwQ5Cnnk_otxJq-tydRt',\n",
    "  byline = 'Jacopo Cirica',\n",
    "    intro= 'Since the Russian invasion of Ukraine, the price of gas has risen by more than 60%.',\n",
    ")"
   ]
  },
  {
   "cell_type": "code",
   "execution_count": 36,
   "id": "65e9fc76",
   "metadata": {},
   "outputs": [
    {
     "data": {
      "text/html": [
       "<iframe title=\"Natural Gas' stocks\" aria-label=\"Interactive line chart\" id=\"datawrapper-chart-OOJrC\" src=\"https://datawrapper.dwcdn.net/OOJrC/3/\" scrolling=\"no\" frameborder=\"0\" style=\"border: none;\" width=\"600\" height=\"400\"></iframe>"
      ],
      "text/plain": [
       "<IPython.core.display.HTML object>"
      ]
     },
     "execution_count": 36,
     "metadata": {},
     "output_type": "execute_result"
    }
   ],
   "source": [
    "dw.publish_chart(gas_chart['id'])"
   ]
  },
  {
   "cell_type": "markdown",
   "id": "e8dd7720",
   "metadata": {},
   "source": [
    "## Let's change the title"
   ]
  },
  {
   "cell_type": "code",
   "execution_count": 40,
   "id": "0f782e37",
   "metadata": {},
   "outputs": [
    {
     "name": "stdout",
     "output_type": "stream",
     "text": [
      "Chart with id OOJrC updated!\n"
     ]
    },
    {
     "data": {
      "text/html": [
       "<iframe title=\"Natural gas stocks skyrocket\" aria-label=\"Interactive line chart\" id=\"datawrapper-chart-OOJrC\" src=\"https://datawrapper.dwcdn.net/OOJrC/4/\" scrolling=\"no\" frameborder=\"0\" style=\"border: none;\" width=\"600\" height=\"400\"></iframe>"
      ],
      "text/plain": [
       "<IPython.core.display.HTML object>"
      ]
     },
     "execution_count": 40,
     "metadata": {},
     "output_type": "execute_result"
    }
   ],
   "source": [
    "dw.update_chart(\n",
    "    gas_chart['id'],\n",
    "    title='Natural gas stocks skyrocket',\n",
    ")"
   ]
  },
  {
   "cell_type": "markdown",
   "id": "2abec195",
   "metadata": {},
   "source": [
    "## We complete the last details and notes in the DataWrapper dashboard."
   ]
  },
  {
   "cell_type": "code",
   "execution_count": null,
   "id": "2a6d5566",
   "metadata": {},
   "outputs": [],
   "source": []
  }
 ],
 "metadata": {
  "kernelspec": {
   "display_name": "Python 3 (ipykernel)",
   "language": "python",
   "name": "python3"
  },
  "language_info": {
   "codemirror_mode": {
    "name": "ipython",
    "version": 3
   },
   "file_extension": ".py",
   "mimetype": "text/x-python",
   "name": "python",
   "nbconvert_exporter": "python",
   "pygments_lexer": "ipython3",
   "version": "3.9.7"
  }
 },
 "nbformat": 4,
 "nbformat_minor": 5
}
